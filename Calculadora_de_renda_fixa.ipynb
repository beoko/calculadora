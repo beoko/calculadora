{
  "nbformat": 4,
  "nbformat_minor": 0,
  "metadata": {
    "colab": {
      "provenance": [],
      "authorship_tag": "ABX9TyOHqArCQbkdpZVeeysKkiYf"
    },
    "kernelspec": {
      "name": "python3",
      "display_name": "Python 3"
    },
    "language_info": {
      "name": "python"
    }
  },
  "cells": [
    {
      "cell_type": "code",
      "execution_count": null,
      "metadata": {
        "id": "ThdksYzQsJzS"
      },
      "outputs": [],
      "source": [
        "import math\n",
        "\n",
        "print(\"Bem vindo a calculadora de renda fixa\\n\")\n",
        "qual = input(\"O que você quer calcular? Taxa (1), valor futuro (2), valor presente (3) ou o tempo(4): \")\n",
        "\n",
        "if qual == \"1\":\n",
        "  vp = str(input(\"Qual o valor presente? \"))\n",
        "  vf = str(input(\"Qual o valor futuro? \"))\n",
        "  t = str(input(\"Qual o tempo? (em anos): \"))\n",
        "  taxa = ((float(vf)/float(vp))**(1/float(t))-1)*100\n",
        "  print(\"A taxa é:\", round(taxa,2))\n",
        "\n",
        "elif qual == \"2\":\n",
        "  vp = str(input(\"Qual o valor presente? \"))\n",
        "  t = str(input(\"Qual o tempo? (em anos): \"))\n",
        "  taxa = str(input(\"Qual a taxa? (em %): \"))\n",
        "  vf = float(vp)*(1+float(taxa)/100)**float(t)\n",
        "  print(\"O valor futuro é:\", round(vf,2))\n",
        "\n",
        "elif qual == \"3\":\n",
        "  vf = str(input(\"Qual o valor futuro? \"))\n",
        "  t = str(input(\"Qual o tempo? (em anos): \"))\n",
        "  taxa = str(input(\"Qual a taxa? (em %): \"))\n",
        "  vp = float(vf)/(1+float(taxa)/100)**float(t)\n",
        "  print(\"O valor presente é:\", round(vp,2))\n",
        "\n",
        "elif qual == \"4\":\n",
        "  vp = float(input(\"Qual o valor presente? \"))\n",
        "  vf = float(input(\"Qual o valor futuro? \"))\n",
        "  taxa = float(input(\"Qual a taxa? (em %): \"))\n",
        "  t = math.log(vf / vp) / math.log(1 + (taxa / 100))\n",
        "  print(f\"O tempo necessário é: {t:.2f} períodos\")"
      ]
    }
  ]
}